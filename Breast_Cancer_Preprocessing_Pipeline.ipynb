{
  "nbformat": 4,
  "nbformat_minor": 0,
  "metadata": {
    "colab": {
      "provenance": [],
      "include_colab_link": true
    },
    "kernelspec": {
      "name": "python3",
      "display_name": "Python 3"
    },
    "language_info": {
      "name": "python"
    },
    "accelerator": "GPU",
    "gpuClass": "standard"
  },
  "cells": [
    {
      "cell_type": "markdown",
      "metadata": {
        "id": "view-in-github",
        "colab_type": "text"
      },
      "source": [
        "<a href=\"https://colab.research.google.com/github/rydeveraumn/csci-5561-flying-dolphins/blob/main/Breast_Cancer_Preprocessing_Pipeline.ipynb\" target=\"_parent\"><img src=\"https://colab.research.google.com/assets/colab-badge.svg\" alt=\"Open In Colab\"/></a>"
      ]
    },
    {
      "cell_type": "markdown",
      "source": [
        "Steps for the Pipeline\n",
        "\n",
        "1. (If runnning in Colab) Mount google drive so access zipped data file\n",
        "2. Unzip file and save in local runtime directory. (Unzipping the folder in drive causes issues).\n",
        "3. Repeat all the following steps for each image in the dataset\n",
        "\n",
        "3-1. Apply the Rolling Ball Algorithm to the image. Current believe ball size of 5 works best. Normalize the image at the output\n",
        "\n",
        "3-2. Apply Huangs fuzzy threshold algorithm to get the background of the image.\n",
        "\n",
        "3-3. Use morphological transforms to denoise the background image. The sequence I found works best is 1 binary erosion (2 x 4), followed by 6 binary dilations (2 x 3). \n",
        "\n",
        "3-4. Perform a bitwise AND between the output of the rolling ball algorithm and the background.\n",
        "\n",
        "3-5. Rectify images to all be right orientated.\n",
        "\n",
        "3-6. Remove the pectoral muscle using Canny edge dectection and the hough line transform.\n",
        "\n",
        "3-7. Crop image to only include the breast region of interest\n",
        "\n",
        "3-8. Resize image to uniform size\n",
        "\n",
        "3-9. Save the processed image in an output folder in the local drive\n",
        "\n",
        "4. Zip the output folder with the processed images\n",
        "\n",
        "5. Save the zipped output folder back in google drive\n"
      ],
      "metadata": {
        "id": "s74G2fmqXKHc"
      }
    },
    {
      "cell_type": "markdown",
      "source": [
        "##Rolling Ball Algorithm:"
      ],
      "metadata": {
        "id": "lgRXcjbbaTgl"
      }
    },
    {
      "cell_type": "code",
      "source": [
        "#Install dependecies for Rolling Ball\n",
        "!pip install opencv-rolling-ball\n",
        "import numpy as np\n",
        "from PIL import Image\n",
        "from cv2_rolling_ball import subtract_background_rolling_ball\n",
        "from google.colab.patches import cv2_imshow\n",
        "import cv2\n",
        "\n",
        "#This function performs the rolling ball algorithm on an image given the image and ball size\n",
        "#Also will normalize the output image\n",
        "#Recommended ball_size = 5\n",
        "def rollingBall(img, ball_size):\n",
        "  final_img, lightbackground = subtract_background_rolling_ball(img, ball_size, light_background = False, use_paraboloid = False, do_presmooth =False)\n",
        "  image_output = cv2.normalize(final_img, None, 0, 255, cv2.NORM_MINMAX, dtype=cv2.CV_32F)\n",
        "  return image_output"
      ],
      "metadata": {
        "id": "Qh7bAyn5aaFk",
        "colab": {
          "base_uri": "https://localhost:8080/"
        },
        "outputId": "46643ef9-cee8-452f-c01b-70df2d8462ba"
      },
      "execution_count": null,
      "outputs": [
        {
          "output_type": "stream",
          "name": "stdout",
          "text": [
            "Looking in indexes: https://pypi.org/simple, https://us-python.pkg.dev/colab-wheels/public/simple/\n",
            "Collecting opencv-rolling-ball\n",
            "  Downloading opencv-rolling-ball-1.0.1.tar.gz (6.2 kB)\n",
            "  Preparing metadata (setup.py) ... \u001b[?25l\u001b[?25hdone\n",
            "Requirement already satisfied: opencv-python in /usr/local/lib/python3.9/dist-packages (from opencv-rolling-ball) (4.7.0.72)\n",
            "Requirement already satisfied: numpy in /usr/local/lib/python3.9/dist-packages (from opencv-rolling-ball) (1.22.4)\n",
            "Building wheels for collected packages: opencv-rolling-ball\n",
            "  Building wheel for opencv-rolling-ball (setup.py) ... \u001b[?25l\u001b[?25hdone\n",
            "  Created wheel for opencv-rolling-ball: filename=opencv_rolling_ball-1.0.1-py3-none-any.whl size=6893 sha256=81810bc74048f2237647e87dbc18d27f46624f9b209a3b8f4fe67b518ff50fdf\n",
            "  Stored in directory: /root/.cache/pip/wheels/b6/cf/88/7ebc10f8425fbc46777a6e6a3d6964d35277134981ca85757b\n",
            "Successfully built opencv-rolling-ball\n",
            "Installing collected packages: opencv-rolling-ball\n",
            "Successfully installed opencv-rolling-ball-1.0.1\n"
          ]
        }
      ]
    },
    {
      "cell_type": "markdown",
      "source": [
        "##Huangs Fuzzy Thresholding Algorithm:\n"
      ],
      "metadata": {
        "id": "z1F_1A5Dbh1b"
      }
    },
    {
      "cell_type": "code",
      "source": [
        "#Calculates the threshold needed for binary image\n",
        "import math\n",
        "import numpy\n",
        "\n",
        "#Main function to find threshold\n",
        "#Takes in a histogram and outputs the threshold\n",
        "def Huang(data):\n",
        "    threshold=-1;\n",
        "    first_bin=  0\n",
        "    for ih in range(254):\n",
        "        if data[ih] != 0:\n",
        "            first_bin = ih\n",
        "            break\n",
        "    last_bin=254;\n",
        "    for ih in range(254,-1,-1):\n",
        "        if data[ih] != 0:\n",
        "            last_bin = ih\n",
        "            break\n",
        "    term = 1.0 / (last_bin - first_bin)\n",
        "    mu_0 = numpy.zeros(shape=(254,1))\n",
        "    num_pix = 0.0\n",
        "    sum_pix = 0.0\n",
        "    for ih in range(first_bin,254):\n",
        "        sum_pix = sum_pix + (ih * data[ih])\n",
        "        num_pix = num_pix + data[ih]\n",
        "        mu_0[ih] = sum_pix / num_pix \n",
        "    min_ent = float(\"inf\")\n",
        "    for it in range(254): \n",
        "        ent = 0.0\n",
        "        for ih in range(it):\n",
        "            mu_x = 1.0 / ( 1.0 + term * math.fabs( ih - mu_0[it]))\n",
        "            if ( not ((mu_x  < 1e-06 ) or (mu_x > 0.999999))):\n",
        "                ent = ent + data[ih] * (-mu_x * math.log(mu_x) - (1.0 - mu_x) * math.log(1.0 - mu_x) ) \n",
        "        if (ent < min_ent):\n",
        "            min_ent = ent\n",
        "            threshold = it\n",
        "    return threshold\n",
        "  \n",
        "#This function takes in\n",
        "#an image and returns the binary version of\n",
        "#it using the Huang algorithm\n",
        "def getBinaryImage(image):\n",
        "  histogram, bin_edges = numpy.histogram(image, bins=range(257))\n",
        "  threshold = Huang(histogram)\n",
        "  binary_image = numpy.where(image > threshold, 255, 0)\n",
        "  return binary_image"
      ],
      "metadata": {
        "id": "sA2U0NIjboX5"
      },
      "execution_count": null,
      "outputs": []
    },
    {
      "cell_type": "markdown",
      "source": [
        "##Morphological Transforms:\n"
      ],
      "metadata": {
        "id": "elFaTZ8ncf-Q"
      }
    },
    {
      "cell_type": "code",
      "source": [
        "#Morphological Transformations for denoising the background image\n",
        "from PIL import Image\n",
        "from scipy.ndimage import binary_erosion, binary_dilation\n",
        "\n",
        "#Takes in a binary background image and returns\n",
        "#the denoised version\n",
        "#Recommended values: erosion_size = (2, 4), erosion_iterations = 1, dilation_size = (2, 3), dilation_iterations = 6\n",
        "def denoise(image, erosion_size, erosion_iterations, dilation_size, dilation_iterations):\n",
        "  # Define the structuring element for the erosion and dilation operations\n",
        "  structuring_element = numpy.ones(erosion_size, dtype=numpy.uint8)\n",
        "\n",
        "  # Perform erosion followed by dilation to remove noise and fill gaps\n",
        "  # This combination seems to do well in removing the background without noise\n",
        "  eroded_array = binary_erosion(image, structuring_element)\n",
        "  for i in range(erosion_iterations - 1):\n",
        "    eroded_array = binary_erosion(eroded_array, structuring_element)\n",
        "\n",
        "  structuring_element = numpy.ones(dilation_size, dtype=numpy.uint8)\n",
        "  denoised_array = binary_dilation(eroded_array, structuring_element)\n",
        "  for i in range(dilation_iterations - 1):\n",
        "    denoised_array = binary_dilation(denoised_array, structuring_element)\n",
        "  \n",
        "  return denoised_array"
      ],
      "metadata": {
        "id": "gI3n3MBPckWI"
      },
      "execution_count": null,
      "outputs": []
    },
    {
      "cell_type": "markdown",
      "source": [
        "##Full Background Removal:"
      ],
      "metadata": {
        "id": "N6zHOvlDdr5I"
      }
    },
    {
      "cell_type": "code",
      "source": [
        "#This function will take an image and use all of the previous helper functions to remove a background\n",
        "#Inputs are all controllable variables in previous functions for maximum flexability\n",
        "def removeBackground(img, ball_size, erosion_size, erosion_iterations, dilation_size, dilation_iterations):\n",
        "  img_proc = rollingBall(img, ball_size)\n",
        "  background_img = getBinaryImage(img_proc)\n",
        "  background_denoised = denoise(background_img, erosion_size, erosion_iterations, dilation_size, dilation_iterations)\n",
        "  background_denoised = background_denoised.astype(numpy.uint8)\n",
        "  img_proc = numpy.array(img_proc)\n",
        "  img_noback = numpy.multiply(background_denoised, img_proc)\n",
        "  return img_noback\n",
        "\n"
      ],
      "metadata": {
        "id": "qqqvZId-dxIz"
      },
      "execution_count": null,
      "outputs": []
    },
    {
      "cell_type": "markdown",
      "source": [
        "##Pectoral Removal:"
      ],
      "metadata": {
        "id": "CRFKc_clfJiD"
      }
    },
    {
      "cell_type": "code",
      "source": [
        "#Make sure dependencies are imported\n",
        "import numpy as np\n",
        "import matplotlib.pyplot as plt\n",
        "from matplotlib import pylab as pylab\n",
        "from skimage import io\n",
        "from skimage import color\n",
        "import cv2\n",
        "\n",
        "#Orients image to right if it is left sided\n",
        "def right_orient_mammogram(image):\n",
        "    left_nonzero = cv2.countNonZero(image[:, 0:int(image.shape[1]/2)])\n",
        "    right_nonzero = cv2.countNonZero(image[:, int(image.shape[1]/2):])\n",
        "    \n",
        "    if(left_nonzero < right_nonzero):\n",
        "        image = cv2.flip(image, 1)\n",
        "\n",
        "    return image\n",
        "\n",
        "#Apply Canny Edge Detection\n",
        "from skimage.feature import canny\n",
        "from skimage.filters import sobel\n",
        "\n",
        "def apply_canny(image):\n",
        "    canny_img = canny(image, 6)\n",
        "    return sobel(canny_img)\n",
        "\n",
        "#Apply Hough Transform\n",
        "from skimage.transform import hough_line, hough_line_peaks\n",
        "\n",
        "def get_hough_lines(canny_img):\n",
        "    h, theta, d = hough_line(canny_img)\n",
        "    lines = list()\n",
        "    #print('\\nAll hough lines')\n",
        "    for _, angle, dist in zip(*hough_line_peaks(h, theta, d)):\n",
        "        #print(\"Angle: {:.2f}, Dist: {:.2f}\".format(np.degrees(angle), dist))\n",
        "        x1 = 0\n",
        "        y1 = (dist - x1 * np.cos(angle)) / np.sin(angle + 0.000000001)\n",
        "        x2 = canny_img.shape[1]\n",
        "        y2 = (dist - x2 * np.cos(angle)) / np.sin(angle + 0.000000001)\n",
        "        lines.append({\n",
        "            'dist': dist,\n",
        "            'angle': np.degrees(angle),\n",
        "            'point1': [x1, y1],\n",
        "            'point2': [x2, y2]\n",
        "        })\n",
        "    \n",
        "    return lines\n",
        "\n",
        "#Shortlisting lines\n",
        "def shortlist_lines(lines):\n",
        "    MIN_ANGLE = 10\n",
        "    MAX_ANGLE = 70\n",
        "    MIN_DIST  = 5\n",
        "    MAX_DIST  = 200\n",
        "    \n",
        "    shortlisted_lines = [x for x in lines if \n",
        "                          (x['dist']>=MIN_DIST) &\n",
        "                          (x['dist']<=MAX_DIST) &\n",
        "                          (x['angle']>=MIN_ANGLE) &\n",
        "                          (x['angle']<=MAX_ANGLE)\n",
        "                        ]\n",
        "    #print('\\nShorlisted lines')\n",
        "    #for i in shortlisted_lines:\n",
        "        #print(\"Angle: {:.2f}, Dist: {:.2f}\".format(i['angle'], i['dist']))\n",
        "        \n",
        "    return shortlisted_lines\n",
        "\n",
        "#Remove the Pectoral Region\n",
        "from skimage.draw import polygon\n",
        "def remove_pectoral_region(shortlisted_lines):\n",
        "    shortlisted_lines.sort(key = lambda x: x['dist'])\n",
        "    pectoral_line = shortlisted_lines[0]\n",
        "    d = pectoral_line['dist']\n",
        "    theta = np.radians(pectoral_line['angle'])\n",
        "    \n",
        "    x_intercept = d/np.cos(theta)\n",
        "    y_intercept = d/np.sin(theta)\n",
        "    \n",
        "    return polygon([0, 0, y_intercept], [0, x_intercept, 0])\n",
        "\n",
        "#Only use this function, uses all of the above to return the image with the pectoral removed\n",
        "def removePectoral(img):\n",
        "  image = right_orient_mammogram(img)\n",
        "  canny_image = apply_canny(image)\n",
        "  lines = get_hough_lines(canny_image)\n",
        "  shortlisted_lines = shortlist_lines(lines)\n",
        "  rr, cc = remove_pectoral_region(shortlisted_lines)\n",
        "  image[rr, cc] = 0\n",
        "  return image\n",
        "\n"
      ],
      "metadata": {
        "id": "ko8IY4xcfNPS"
      },
      "execution_count": null,
      "outputs": []
    },
    {
      "cell_type": "markdown",
      "source": [
        "##Image Cropping and Resizing (Ryan add this part):\n"
      ],
      "metadata": {
        "id": "ehiuuzXqgJpK"
      }
    },
    {
      "cell_type": "markdown",
      "source": [
        "##Fully Preprocessing an Image\n",
        "This function will take in an image and return the preprocessed version"
      ],
      "metadata": {
        "id": "4RO7wkoWgQ7P"
      }
    },
    {
      "cell_type": "code",
      "source": [
        "#Preprocess Image\n",
        "#Recommended variable values\n",
        "#ball_size = 5\n",
        "#erosion_size = (4,2)\n",
        "#erosion_iterations = 1\n",
        "#dilation_size = (3,2)\n",
        "#dilation_iterations = 6\n",
        "def preprocess_image(img, ball_size, erosion_size, erosion_iterations, dilation_size, dilation_iterations):\n",
        "  img = removeBackground(img, ball_size, erosion_size, erosion_iterations, dilation_size, dilation_iterations)\n",
        "  img = removePectoral(img)\n",
        "  #INSERT CROPPING AND RESIZING FUNCTION HERE\n",
        "  return img\n"
      ],
      "metadata": {
        "id": "RHH2RysxgieO"
      },
      "execution_count": null,
      "outputs": []
    },
    {
      "cell_type": "code",
      "source": [
        "from google.colab import drive\n",
        "drive.mount('/content/drive')"
      ],
      "metadata": {
        "id": "OhdkjxUNg_1P"
      },
      "execution_count": null,
      "outputs": []
    },
    {
      "cell_type": "code",
      "source": [],
      "metadata": {
        "id": "_6OaiEmvD04g"
      },
      "execution_count": null,
      "outputs": []
    },
    {
      "cell_type": "markdown",
      "source": [
        "##Mount Google Drive:"
      ],
      "metadata": {
        "id": "4w_L5ygBhEAx"
      }
    },
    {
      "cell_type": "markdown",
      "source": [
        "##Process Entire Dataset:\n",
        "\n",
        "1. Unzip data folder from drive to local runtime folder\n",
        "2. For each image in the folder, preprocess the image and save it to an output folder\n",
        "3. Zip output folder and save to drive"
      ],
      "metadata": {
        "id": "eqRE0i0WhPmt"
      }
    },
    {
      "cell_type": "code",
      "source": [
        "!unzip gdrive/MyDrive/Breast\\ Cancer\\ Data/rsna-breast-cancer-256-pngs.zip -d rsna-256/"
      ],
      "metadata": {
        "id": "wW4PqNSgCGSp"
      },
      "execution_count": null,
      "outputs": []
    },
    {
      "cell_type": "markdown",
      "source": [
        "Example of how we would perform the lookup"
      ],
      "metadata": {
        "id": "K-YxL_emIsap"
      }
    },
    {
      "cell_type": "code",
      "source": [
        "import pandas as pd\n",
        "\n",
        "df = pd.read_csv('train.csv')\n",
        "df = df.set_index('image_id')\n",
        "\n",
        "\n",
        "#Background removal code here\n",
        "image = right_orient_mammogram(image)\n",
        "\n",
        "# Remove the pectoral muscle\n",
        "# Parse the image_id from the image title\n",
        "\n",
        "view_value = df.loc[this_image_id]['view']\n",
        "if(view_value == \"CC\"):\n",
        "  try:\n",
        "    image = removePectoral(image.copy())\n",
        "\n",
        "  except IndexError:\n",
        "    pass\n",
        "\n"
      ],
      "metadata": {
        "id": "0jBdeb2XIpfn"
      },
      "execution_count": null,
      "outputs": []
    }
  ]
}